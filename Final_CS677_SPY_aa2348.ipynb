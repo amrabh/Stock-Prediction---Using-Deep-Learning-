{
 "cells": [
  {
   "cell_type": "code",
   "execution_count": 1,
   "metadata": {},
   "outputs": [],
   "source": [
    "'''\n",
    "CS677 - Final Project - Predicting the SPY \n",
    "SPY Prediction using LSTM \n",
    "Author - Amruta Abhyankar\n",
    "'''\n",
    "import tensorflow as tf\n",
    "from tensorflow import keras\n",
    "from tensorflow.keras.models import Sequential\n",
    "from tensorflow.keras.layers import Dense, Dropout\n",
    "from tensorflow.keras.layers import Embedding\n",
    "from tensorflow.keras.layers import LSTM, GRU\n",
    "from sklearn.preprocessing import MinMaxScaler\n",
    "import pandas as pd\n",
    "import matplotlib.pyplot as plt\n",
    "import math\n",
    "plt.style.use(\"fivethirtyeight\")\n",
    "import seaborn as sns\n",
    "import numpy as np\n",
    "import os\n",
    "import pandas as pd\n",
    "sns.set()\n",
    "from sklearn.model_selection import train_test_split\n",
    "from sklearn.preprocessing import MinMaxScaler\n",
    "min_max_scaler = MinMaxScaler()"
   ]
  },
  {
   "cell_type": "code",
   "execution_count": 2,
   "metadata": {},
   "outputs": [],
   "source": [
    "input_data = pd.read_csv('/Users/amrabh/Downloads/SPY.csv', index_col = 'Date')"
   ]
  },
  {
   "cell_type": "code",
   "execution_count": 3,
   "metadata": {},
   "outputs": [
    {
     "data": {
      "text/plain": [
       "(7014, 6)"
      ]
     },
     "execution_count": 3,
     "metadata": {},
     "output_type": "execute_result"
    }
   ],
   "source": [
    "input_data.shape"
   ]
  },
  {
   "cell_type": "code",
   "execution_count": 4,
   "metadata": {},
   "outputs": [
    {
     "data": {
      "text/html": [
       "<div>\n",
       "<style scoped>\n",
       "    .dataframe tbody tr th:only-of-type {\n",
       "        vertical-align: middle;\n",
       "    }\n",
       "\n",
       "    .dataframe tbody tr th {\n",
       "        vertical-align: top;\n",
       "    }\n",
       "\n",
       "    .dataframe thead th {\n",
       "        text-align: right;\n",
       "    }\n",
       "</style>\n",
       "<table border=\"1\" class=\"dataframe\">\n",
       "  <thead>\n",
       "    <tr style=\"text-align: right;\">\n",
       "      <th></th>\n",
       "      <th>Open</th>\n",
       "      <th>High</th>\n",
       "      <th>Low</th>\n",
       "      <th>Close</th>\n",
       "      <th>Adj Close</th>\n",
       "      <th>Volume</th>\n",
       "    </tr>\n",
       "    <tr>\n",
       "      <th>Date</th>\n",
       "      <th></th>\n",
       "      <th></th>\n",
       "      <th></th>\n",
       "      <th></th>\n",
       "      <th></th>\n",
       "      <th></th>\n",
       "    </tr>\n",
       "  </thead>\n",
       "  <tbody>\n",
       "    <tr>\n",
       "      <th>1993-02-01</th>\n",
       "      <td>43.96875</td>\n",
       "      <td>44.25000</td>\n",
       "      <td>43.96875</td>\n",
       "      <td>44.25000</td>\n",
       "      <td>26.265144</td>\n",
       "      <td>480500</td>\n",
       "    </tr>\n",
       "    <tr>\n",
       "      <th>1993-02-02</th>\n",
       "      <td>44.21875</td>\n",
       "      <td>44.37500</td>\n",
       "      <td>44.12500</td>\n",
       "      <td>44.34375</td>\n",
       "      <td>26.320782</td>\n",
       "      <td>201300</td>\n",
       "    </tr>\n",
       "    <tr>\n",
       "      <th>1993-02-03</th>\n",
       "      <td>44.40625</td>\n",
       "      <td>44.84375</td>\n",
       "      <td>44.37500</td>\n",
       "      <td>44.81250</td>\n",
       "      <td>26.599014</td>\n",
       "      <td>529400</td>\n",
       "    </tr>\n",
       "    <tr>\n",
       "      <th>1993-02-04</th>\n",
       "      <td>44.96875</td>\n",
       "      <td>45.09375</td>\n",
       "      <td>44.46875</td>\n",
       "      <td>45.00000</td>\n",
       "      <td>26.710312</td>\n",
       "      <td>531500</td>\n",
       "    </tr>\n",
       "    <tr>\n",
       "      <th>1993-02-05</th>\n",
       "      <td>44.96875</td>\n",
       "      <td>45.06250</td>\n",
       "      <td>44.71875</td>\n",
       "      <td>44.96875</td>\n",
       "      <td>26.691771</td>\n",
       "      <td>492100</td>\n",
       "    </tr>\n",
       "  </tbody>\n",
       "</table>\n",
       "</div>"
      ],
      "text/plain": [
       "                Open      High       Low     Close  Adj Close  Volume\n",
       "Date                                                                 \n",
       "1993-02-01  43.96875  44.25000  43.96875  44.25000  26.265144  480500\n",
       "1993-02-02  44.21875  44.37500  44.12500  44.34375  26.320782  201300\n",
       "1993-02-03  44.40625  44.84375  44.37500  44.81250  26.599014  529400\n",
       "1993-02-04  44.96875  45.09375  44.46875  45.00000  26.710312  531500\n",
       "1993-02-05  44.96875  45.06250  44.71875  44.96875  26.691771  492100"
      ]
     },
     "execution_count": 4,
     "metadata": {},
     "output_type": "execute_result"
    }
   ],
   "source": [
    "input_data.head()"
   ]
  },
  {
   "cell_type": "code",
   "execution_count": 5,
   "metadata": {},
   "outputs": [
    {
     "data": {
      "text/html": [
       "<div>\n",
       "<style scoped>\n",
       "    .dataframe tbody tr th:only-of-type {\n",
       "        vertical-align: middle;\n",
       "    }\n",
       "\n",
       "    .dataframe tbody tr th {\n",
       "        vertical-align: top;\n",
       "    }\n",
       "\n",
       "    .dataframe thead th {\n",
       "        text-align: right;\n",
       "    }\n",
       "</style>\n",
       "<table border=\"1\" class=\"dataframe\">\n",
       "  <thead>\n",
       "    <tr style=\"text-align: right;\">\n",
       "      <th></th>\n",
       "      <th>Open</th>\n",
       "      <th>High</th>\n",
       "      <th>Low</th>\n",
       "      <th>Close</th>\n",
       "      <th>Adj Close</th>\n",
       "      <th>Volume</th>\n",
       "    </tr>\n",
       "    <tr>\n",
       "      <th>Date</th>\n",
       "      <th></th>\n",
       "      <th></th>\n",
       "      <th></th>\n",
       "      <th></th>\n",
       "      <th></th>\n",
       "      <th></th>\n",
       "    </tr>\n",
       "  </thead>\n",
       "  <tbody>\n",
       "    <tr>\n",
       "      <th>2020-11-30</th>\n",
       "      <td>362.829987</td>\n",
       "      <td>363.119995</td>\n",
       "      <td>359.170013</td>\n",
       "      <td>362.059998</td>\n",
       "      <td>362.059998</td>\n",
       "      <td>83872700</td>\n",
       "    </tr>\n",
       "    <tr>\n",
       "      <th>2020-12-01</th>\n",
       "      <td>365.570007</td>\n",
       "      <td>367.679993</td>\n",
       "      <td>364.929993</td>\n",
       "      <td>366.019989</td>\n",
       "      <td>366.019989</td>\n",
       "      <td>74505000</td>\n",
       "    </tr>\n",
       "    <tr>\n",
       "      <th>2020-12-02</th>\n",
       "      <td>364.820007</td>\n",
       "      <td>366.959991</td>\n",
       "      <td>364.200012</td>\n",
       "      <td>366.790009</td>\n",
       "      <td>366.790009</td>\n",
       "      <td>45927000</td>\n",
       "    </tr>\n",
       "    <tr>\n",
       "      <th>2020-12-03</th>\n",
       "      <td>366.679993</td>\n",
       "      <td>368.190002</td>\n",
       "      <td>365.500000</td>\n",
       "      <td>366.690002</td>\n",
       "      <td>366.690002</td>\n",
       "      <td>62882000</td>\n",
       "    </tr>\n",
       "    <tr>\n",
       "      <th>2020-12-04</th>\n",
       "      <td>367.320007</td>\n",
       "      <td>369.850006</td>\n",
       "      <td>367.220001</td>\n",
       "      <td>369.850006</td>\n",
       "      <td>369.850006</td>\n",
       "      <td>50676700</td>\n",
       "    </tr>\n",
       "  </tbody>\n",
       "</table>\n",
       "</div>"
      ],
      "text/plain": [
       "                  Open        High         Low       Close   Adj Close  \\\n",
       "Date                                                                     \n",
       "2020-11-30  362.829987  363.119995  359.170013  362.059998  362.059998   \n",
       "2020-12-01  365.570007  367.679993  364.929993  366.019989  366.019989   \n",
       "2020-12-02  364.820007  366.959991  364.200012  366.790009  366.790009   \n",
       "2020-12-03  366.679993  368.190002  365.500000  366.690002  366.690002   \n",
       "2020-12-04  367.320007  369.850006  367.220001  369.850006  369.850006   \n",
       "\n",
       "              Volume  \n",
       "Date                  \n",
       "2020-11-30  83872700  \n",
       "2020-12-01  74505000  \n",
       "2020-12-02  45927000  \n",
       "2020-12-03  62882000  \n",
       "2020-12-04  50676700  "
      ]
     },
     "execution_count": 5,
     "metadata": {},
     "output_type": "execute_result"
    }
   ],
   "source": [
    "input_data.tail()"
   ]
  },
  {
   "cell_type": "code",
   "execution_count": 6,
   "metadata": {},
   "outputs": [
    {
     "data": {
      "text/html": [
       "<div>\n",
       "<style scoped>\n",
       "    .dataframe tbody tr th:only-of-type {\n",
       "        vertical-align: middle;\n",
       "    }\n",
       "\n",
       "    .dataframe tbody tr th {\n",
       "        vertical-align: top;\n",
       "    }\n",
       "\n",
       "    .dataframe thead th {\n",
       "        text-align: right;\n",
       "    }\n",
       "</style>\n",
       "<table border=\"1\" class=\"dataframe\">\n",
       "  <thead>\n",
       "    <tr style=\"text-align: right;\">\n",
       "      <th></th>\n",
       "      <th>Open</th>\n",
       "      <th>High</th>\n",
       "      <th>Low</th>\n",
       "      <th>Close</th>\n",
       "      <th>Adj Close</th>\n",
       "      <th>Volume</th>\n",
       "    </tr>\n",
       "  </thead>\n",
       "  <tbody>\n",
       "    <tr>\n",
       "      <th>count</th>\n",
       "      <td>7014.000000</td>\n",
       "      <td>7014.000000</td>\n",
       "      <td>7014.000000</td>\n",
       "      <td>7014.000000</td>\n",
       "      <td>7014.000000</td>\n",
       "      <td>7.014000e+03</td>\n",
       "    </tr>\n",
       "    <tr>\n",
       "      <th>mean</th>\n",
       "      <td>143.087253</td>\n",
       "      <td>143.938409</td>\n",
       "      <td>142.139512</td>\n",
       "      <td>143.084707</td>\n",
       "      <td>118.303839</td>\n",
       "      <td>8.465483e+07</td>\n",
       "    </tr>\n",
       "    <tr>\n",
       "      <th>std</th>\n",
       "      <td>70.418804</td>\n",
       "      <td>70.724677</td>\n",
       "      <td>70.075717</td>\n",
       "      <td>70.421214</td>\n",
       "      <td>75.788055</td>\n",
       "      <td>9.680286e+07</td>\n",
       "    </tr>\n",
       "    <tr>\n",
       "      <th>min</th>\n",
       "      <td>43.343750</td>\n",
       "      <td>43.531250</td>\n",
       "      <td>42.812500</td>\n",
       "      <td>43.406250</td>\n",
       "      <td>25.764320</td>\n",
       "      <td>5.200000e+03</td>\n",
       "    </tr>\n",
       "    <tr>\n",
       "      <th>25%</th>\n",
       "      <td>99.606248</td>\n",
       "      <td>100.571875</td>\n",
       "      <td>98.562498</td>\n",
       "      <td>99.621252</td>\n",
       "      <td>71.193678</td>\n",
       "      <td>7.760725e+06</td>\n",
       "    </tr>\n",
       "    <tr>\n",
       "      <th>50%</th>\n",
       "      <td>127.110001</td>\n",
       "      <td>127.805001</td>\n",
       "      <td>126.174999</td>\n",
       "      <td>127.019997</td>\n",
       "      <td>93.862629</td>\n",
       "      <td>5.828205e+07</td>\n",
       "    </tr>\n",
       "    <tr>\n",
       "      <th>75%</th>\n",
       "      <td>179.880001</td>\n",
       "      <td>180.494999</td>\n",
       "      <td>178.990002</td>\n",
       "      <td>179.870003</td>\n",
       "      <td>157.017071</td>\n",
       "      <td>1.212786e+08</td>\n",
       "    </tr>\n",
       "    <tr>\n",
       "      <th>max</th>\n",
       "      <td>367.320007</td>\n",
       "      <td>369.850006</td>\n",
       "      <td>367.220001</td>\n",
       "      <td>369.850006</td>\n",
       "      <td>369.850006</td>\n",
       "      <td>8.710263e+08</td>\n",
       "    </tr>\n",
       "  </tbody>\n",
       "</table>\n",
       "</div>"
      ],
      "text/plain": [
       "              Open         High          Low        Close    Adj Close  \\\n",
       "count  7014.000000  7014.000000  7014.000000  7014.000000  7014.000000   \n",
       "mean    143.087253   143.938409   142.139512   143.084707   118.303839   \n",
       "std      70.418804    70.724677    70.075717    70.421214    75.788055   \n",
       "min      43.343750    43.531250    42.812500    43.406250    25.764320   \n",
       "25%      99.606248   100.571875    98.562498    99.621252    71.193678   \n",
       "50%     127.110001   127.805001   126.174999   127.019997    93.862629   \n",
       "75%     179.880001   180.494999   178.990002   179.870003   157.017071   \n",
       "max     367.320007   369.850006   367.220001   369.850006   369.850006   \n",
       "\n",
       "             Volume  \n",
       "count  7.014000e+03  \n",
       "mean   8.465483e+07  \n",
       "std    9.680286e+07  \n",
       "min    5.200000e+03  \n",
       "25%    7.760725e+06  \n",
       "50%    5.828205e+07  \n",
       "75%    1.212786e+08  \n",
       "max    8.710263e+08  "
      ]
     },
     "execution_count": 6,
     "metadata": {},
     "output_type": "execute_result"
    }
   ],
   "source": [
    "input_data.describe()"
   ]
  },
  {
   "cell_type": "code",
   "execution_count": 7,
   "metadata": {},
   "outputs": [
    {
     "name": "stdout",
     "output_type": "stream",
     "text": [
      "There are 7014 number of days in the dataset.\n"
     ]
    }
   ],
   "source": [
    "print('There are {} number of days in the dataset.'.format(input_data.shape[0]))"
   ]
  },
  {
   "cell_type": "code",
   "execution_count": 8,
   "metadata": {},
   "outputs": [
    {
     "data": {
      "text/plain": [
       "Open         float64\n",
       "High         float64\n",
       "Low          float64\n",
       "Close        float64\n",
       "Adj Close    float64\n",
       "Volume         int64\n",
       "dtype: object"
      ]
     },
     "execution_count": 8,
     "metadata": {},
     "output_type": "execute_result"
    }
   ],
   "source": [
    "input_data.dtypes"
   ]
  },
  {
   "cell_type": "code",
   "execution_count": 9,
   "metadata": {},
   "outputs": [
    {
     "name": "stdout",
     "output_type": "stream",
     "text": [
      "<class 'pandas.core.frame.DataFrame'>\n",
      "Index: 7014 entries, 1993-02-01 to 2020-12-04\n",
      "Data columns (total 6 columns):\n",
      "Open         7014 non-null float64\n",
      "High         7014 non-null float64\n",
      "Low          7014 non-null float64\n",
      "Close        7014 non-null float64\n",
      "Adj Close    7014 non-null float64\n",
      "Volume       7014 non-null int64\n",
      "dtypes: float64(5), int64(1)\n",
      "memory usage: 383.6+ KB\n"
     ]
    }
   ],
   "source": [
    "input_data.info()"
   ]
  },
  {
   "cell_type": "code",
   "execution_count": 10,
   "metadata": {},
   "outputs": [],
   "source": [
    "input_data = input_data.dropna()"
   ]
  },
  {
   "cell_type": "code",
   "execution_count": 11,
   "metadata": {},
   "outputs": [
    {
     "data": {
      "text/plain": [
       "(7014, 6)"
      ]
     },
     "execution_count": 11,
     "metadata": {},
     "output_type": "execute_result"
    }
   ],
   "source": [
    "input_data.shape"
   ]
  },
  {
   "cell_type": "code",
   "execution_count": 12,
   "metadata": {},
   "outputs": [
    {
     "data": {
      "image/png": "[encoded data removed]",
      "text/plain": [
       "<Figure size 1152x288 with 1 Axes>"
      ]
     },
     "metadata": {
      "needs_background": "light"
     },
     "output_type": "display_data"
    }
   ],
   "source": [
    "input_data.iloc[:,1:5].plot(figsize=(16,4), legend=True)\n",
    "plt.title(\"SPY\")\n",
    "plt.show()"
   ]
  },
  {
   "cell_type": "code",
   "execution_count": 13,
   "metadata": {},
   "outputs": [
    {
     "data": {
      "image/png": "[encoded data removed]",
      "text/plain": [
       "<Figure size 1152x288 with 1 Axes>"
      ]
     },
     "metadata": {
      "needs_background": "light"
     },
     "output_type": "display_data"
    }
   ],
   "source": [
    "input_data.iloc[:, -1].plot(figsize=(16,4), legend=True)\n",
    "plt.title(\"SPY\")\n",
    "plt.show()"
   ]
  },
  {
   "cell_type": "code",
   "execution_count": 14,
   "metadata": {},
   "outputs": [],
   "source": [
    "# We drop the Adj Close and Volume Columns"
   ]
  },
  {
   "cell_type": "code",
   "execution_count": 15,
   "metadata": {},
   "outputs": [],
   "source": [
    "data = input_data.iloc[:, 1:5]"
   ]
  },
  {
   "cell_type": "code",
   "execution_count": 16,
   "metadata": {},
   "outputs": [
    {
     "data": {
      "text/plain": [
       "(7014, 4)"
      ]
     },
     "execution_count": 16,
     "metadata": {},
     "output_type": "execute_result"
    }
   ],
   "source": [
    "data.shape"
   ]
  },
  {
   "cell_type": "code",
   "execution_count": 17,
   "metadata": {},
   "outputs": [],
   "source": [
    "# Data Normalization using minmaxscaler normalization\n",
    "scaler = MinMaxScaler(feature_range=(0,1))\n",
    "scaled_data = scaler.fit_transform(data)"
   ]
  },
  {
   "cell_type": "code",
   "execution_count": 18,
   "metadata": {},
   "outputs": [
    {
     "data": {
      "text/plain": [
       "array([[0.0022026 , 0.00356419, 0.00258467, 0.00145552],\n",
       "       [0.00258566, 0.00404584, 0.00287186, 0.00161722],\n",
       "       [0.00402214, 0.00481647, 0.00430779, 0.00242583],\n",
       "       ...,\n",
       "       [0.99114358, 0.99069075, 0.99062627, 0.99110688],\n",
       "       [0.99491294, 0.99469802, 0.99031991, 0.99081623],\n",
       "       [1.        , 1.        , 1.        , 1.        ]])"
      ]
     },
     "execution_count": 18,
     "metadata": {},
     "output_type": "execute_result"
    }
   ],
   "source": [
    "scaled_data"
   ]
  },
  {
   "cell_type": "code",
   "execution_count": 19,
   "metadata": {},
   "outputs": [
    {
     "name": "stdout",
     "output_type": "stream",
     "text": [
      "The length of training data is :  5612 rows\n"
     ]
    }
   ],
   "source": [
    "#get the number of rows to train\n",
    "train_len = math.ceil(len(scaled_data)*.8) #math.ceil to round up\n",
    "print(\"The length of training data is : \",(train_len) , \"rows\")"
   ]
  },
  {
   "cell_type": "code",
   "execution_count": 20,
   "metadata": {},
   "outputs": [],
   "source": [
    "# 60 time stamps\n",
    "x_train = []\n",
    "y_train = []\n",
    "\n",
    "for i in range(60,train_len):\n",
    "    x_train.append(scaled_data[i-60:i, 0:5])\n",
    "    y_train.append(scaled_data[i,0:5])\n",
    "\n",
    "x_train, y_train = np.array(x_train), np.array(y_train)"
   ]
  },
  {
   "cell_type": "code",
   "execution_count": 21,
   "metadata": {},
   "outputs": [
    {
     "data": {
      "text/plain": [
       "(5552, 60, 4)"
      ]
     },
     "execution_count": 21,
     "metadata": {},
     "output_type": "execute_result"
    }
   ],
   "source": [
    "x_train.shape"
   ]
  },
  {
   "cell_type": "code",
   "execution_count": 22,
   "metadata": {},
   "outputs": [
    {
     "data": {
      "text/plain": [
       "(5552, 4)"
      ]
     },
     "execution_count": 22,
     "metadata": {},
     "output_type": "execute_result"
    }
   ],
   "source": [
    "y_train.shape"
   ]
  },
  {
   "cell_type": "code",
   "execution_count": 23,
   "metadata": {},
   "outputs": [
    {
     "data": {
      "text/plain": [
       "array([0.00114918, 0.00279355, 0.00114874, 0.00100357])"
      ]
     },
     "execution_count": 23,
     "metadata": {},
     "output_type": "execute_result"
    }
   ],
   "source": [
    "y_train[0]"
   ]
  },
  {
   "cell_type": "code",
   "execution_count": 24,
   "metadata": {},
   "outputs": [
    {
     "data": {
      "text/plain": [
       "(60, 4)"
      ]
     },
     "execution_count": 24,
     "metadata": {},
     "output_type": "execute_result"
    }
   ],
   "source": [
    "inputshape = (x_train.shape[1],4)\n",
    "inputshape"
   ]
  },
  {
   "cell_type": "code",
   "execution_count": 25,
   "metadata": {},
   "outputs": [
    {
     "name": "stdout",
     "output_type": "stream",
     "text": [
      "Model: \"sequential\"\n",
      "_________________________________________________________________\n",
      "Layer (type)                 Output Shape              Param #   \n",
      "=================================================================\n",
      "gru (GRU)                    (None, 60, 256)           201216    \n",
      "_________________________________________________________________\n",
      "dropout (Dropout)            (None, 60, 256)           0         \n",
      "_________________________________________________________________\n",
      "dense (Dense)                (None, 60, 64)            16448     \n",
      "_________________________________________________________________\n",
      "lstm (LSTM)                  (None, 256)               328704    \n",
      "_________________________________________________________________\n",
      "dropout_1 (Dropout)          (None, 256)               0         \n",
      "_________________________________________________________________\n",
      "dense_1 (Dense)              (None, 64)                16448     \n",
      "_________________________________________________________________\n",
      "dense_2 (Dense)              (None, 4)                 260       \n",
      "=================================================================\n",
      "Total params: 563,076\n",
      "Trainable params: 563,076\n",
      "Non-trainable params: 0\n",
      "_________________________________________________________________\n",
      "None\n"
     ]
    }
   ],
   "source": [
    "model = Sequential()\n",
    "model.add(GRU(256 , input_shape=(x_train.shape[1],4) , return_sequences=True))\n",
    "model.add(Dropout(0.4))\n",
    "model.add(Dense(64))\n",
    "model.add(LSTM(256))\n",
    "model.add(Dropout(0.4))\n",
    "model.add(Dense(64,  activation = 'relu'))\n",
    "model.add(Dense(4))\n",
    "print(model.summary())"
   ]
  },
  {
   "cell_type": "code",
   "execution_count": 26,
   "metadata": {},
   "outputs": [],
   "source": [
    "model.compile(optimizer=keras.optimizers.Adam(lr=0.001), loss='mean_squared_error')"
   ]
  },
  {
   "cell_type": "code",
   "execution_count": 27,
   "metadata": {},
   "outputs": [
    {
     "name": "stdout",
     "output_type": "stream",
     "text": [
      "Epoch 1/10\n",
      "174/174 [==============================] - 47s 272ms/step - loss: 0.0016\n",
      "Epoch 2/10\n",
      "174/174 [==============================] - 58s 336ms/step - loss: 3.3148e-04\n",
      "Epoch 3/10\n",
      "174/174 [==============================] - 62s 354ms/step - loss: 2.4333e-04\n",
      "Epoch 4/10\n",
      "174/174 [==============================] - 55s 319ms/step - loss: 1.9609e-04\n",
      "Epoch 5/10\n",
      "174/174 [==============================] - 62s 358ms/step - loss: 1.5894e-04\n",
      "Epoch 6/10\n",
      "174/174 [==============================] - 65s 376ms/step - loss: 1.4214e-04\n",
      "Epoch 7/10\n",
      "174/174 [==============================] - 59s 337ms/step - loss: 1.4361e-04\n",
      "Epoch 8/10\n",
      "174/174 [==============================] - 61s 349ms/step - loss: 1.3049e-04\n",
      "Epoch 9/10\n",
      "174/174 [==============================] - 60s 347ms/step - loss: 1.2414e-04\n",
      "Epoch 10/10\n",
      "174/174 [==============================] - 57s 327ms/step - loss: 1.1488e-04\n"
     ]
    },
    {
     "data": {
      "text/plain": [
       "<tensorflow.python.keras.callbacks.History at 0x7f9871e7bfd0>"
      ]
     },
     "execution_count": 27,
     "metadata": {},
     "output_type": "execute_result"
    }
   ],
   "source": [
    "model.fit(x_train, y_train, epochs=10, batch_size=32)"
   ]
  },
  {
   "cell_type": "code",
   "execution_count": 28,
   "metadata": {},
   "outputs": [
    {
     "data": {
      "text/plain": [
       "array([[0.0022026 , 0.00356419, 0.00258467, 0.00145552],\n",
       "       [0.00258566, 0.00404584, 0.00287186, 0.00161722],\n",
       "       [0.00402214, 0.00481647, 0.00430779, 0.00242583],\n",
       "       ...,\n",
       "       [0.99114358, 0.99069075, 0.99062627, 0.99110688],\n",
       "       [0.99491294, 0.99469802, 0.99031991, 0.99081623],\n",
       "       [1.        , 1.        , 1.        , 1.        ]])"
      ]
     },
     "execution_count": 28,
     "metadata": {},
     "output_type": "execute_result"
    }
   ],
   "source": [
    "scaled_data"
   ]
  },
  {
   "cell_type": "code",
   "execution_count": 29,
   "metadata": {},
   "outputs": [
    {
     "data": {
      "text/plain": [
       "(7014, 4)"
      ]
     },
     "execution_count": 29,
     "metadata": {},
     "output_type": "execute_result"
    }
   ],
   "source": [
    "df = pd.DataFrame(scaled_data)\n",
    "df.shape"
   ]
  },
  {
   "cell_type": "code",
   "execution_count": 30,
   "metadata": {},
   "outputs": [
    {
     "name": "stdout",
     "output_type": "stream",
     "text": [
      "(14028, 4)\n"
     ]
    }
   ],
   "source": [
    "dataset_total = pd.concat((df, df), axis=0)\n",
    "print(dataset_total.shape)\n"
   ]
  },
  {
   "cell_type": "code",
   "execution_count": 31,
   "metadata": {},
   "outputs": [
    {
     "data": {
      "text/plain": [
       "(1402, 4)"
      ]
     },
     "execution_count": 31,
     "metadata": {},
     "output_type": "execute_result"
    }
   ],
   "source": [
    "test_data = scaled_data[train_len:]\n",
    "test_data.shape"
   ]
  },
  {
   "cell_type": "code",
   "execution_count": 32,
   "metadata": {},
   "outputs": [
    {
     "name": "stdout",
     "output_type": "stream",
     "text": [
      "(1462, 4)\n"
     ]
    }
   ],
   "source": [
    "inputs = dataset_total[len(dataset_total)-len(test_data)-60: ].values\n",
    "print(inputs.shape)"
   ]
  },
  {
   "cell_type": "code",
   "execution_count": 33,
   "metadata": {},
   "outputs": [],
   "source": [
    "#preparing x_test\n",
    "# 60 time stamps\n",
    "x_test = []\n",
    "for i in range(60,inputs.shape[0]):\n",
    "    x_test.append(inputs[i-60:i, 0:5])\n",
    "x_test = np.array(x_test)"
   ]
  },
  {
   "cell_type": "code",
   "execution_count": 34,
   "metadata": {
    "scrolled": true
   },
   "outputs": [
    {
     "data": {
      "text/plain": [
       "(1402, 60, 4)"
      ]
     },
     "execution_count": 34,
     "metadata": {},
     "output_type": "execute_result"
    }
   ],
   "source": [
    "x_test.shape"
   ]
  },
  {
   "cell_type": "code",
   "execution_count": 35,
   "metadata": {},
   "outputs": [],
   "source": [
    "# predicting the spy prices for test set\n",
    "predicted = model.predict(x_test)\n",
    "predicted = scaler.inverse_transform(predicted)"
   ]
  },
  {
   "cell_type": "code",
   "execution_count": 36,
   "metadata": {},
   "outputs": [],
   "source": [
    "test_org = scaler.inverse_transform(test_data)"
   ]
  },
  {
   "cell_type": "code",
   "execution_count": 37,
   "metadata": {},
   "outputs": [],
   "source": [
    "# function which plots the predictions \n",
    "def plot_predictions(test, predicted):\n",
    "    plt.plot(test, color=\"red\", label=\"real stock price\")\n",
    "    plt.plot(predicted, color=\"blue\", label=\"predicted stock price\")\n",
    "    plt.title(\"spy price prediction\")\n",
    "    plt.xlabel(\"time\")\n",
    "    plt.ylabel(\"spy price\")\n",
    "    plt.legend()\n",
    "    plt.show()"
   ]
  },
  {
   "cell_type": "code",
   "execution_count": 38,
   "metadata": {},
   "outputs": [
    {
     "data": {
      "image/png": "[encoded data removed]",
      "text/plain": [
       "<Figure size 432x288 with 1 Axes>"
      ]
     },
     "metadata": {
      "needs_background": "light"
     },
     "output_type": "display_data"
    }
   ],
   "source": [
    "# visualizing the results: predicted vs test\n",
    "\n",
    "plot_predictions(test_org[:,0], predicted[:,0])"
   ]
  },
  {
   "cell_type": "code",
   "execution_count": 39,
   "metadata": {},
   "outputs": [
    {
     "data": {
      "text/plain": [
       "(1402, 4)"
      ]
     },
     "execution_count": 39,
     "metadata": {},
     "output_type": "execute_result"
    }
   ],
   "source": [
    "predicted.shape\n"
   ]
  },
  {
   "cell_type": "code",
   "execution_count": 40,
   "metadata": {},
   "outputs": [
    {
     "data": {
      "text/plain": [
       "(1402, 4)"
      ]
     },
     "execution_count": 40,
     "metadata": {},
     "output_type": "execute_result"
    }
   ],
   "source": [
    "test_data.shape"
   ]
  },
  {
   "cell_type": "code",
   "execution_count": 41,
   "metadata": {},
   "outputs": [
    {
     "data": {
      "text/plain": [
       "1.0027596590275432"
      ]
     },
     "execution_count": 41,
     "metadata": {},
     "output_type": "execute_result"
    }
   ],
   "source": [
    "accuracy = predicted/test_org\n",
    "test_set_accuracy = accuracy.mean()\n",
    "test_set_accuracy"
   ]
  },
  {
   "cell_type": "code",
   "execution_count": 42,
   "metadata": {},
   "outputs": [
    {
     "name": "stdout",
     "output_type": "stream",
     "text": [
      "Average accuracy of the test set is : 1.0027596590275432\n"
     ]
    }
   ],
   "source": [
    "print(\"Average accuracy of the test set is :\", test_set_accuracy)"
   ]
  },
  {
   "cell_type": "code",
   "execution_count": 43,
   "metadata": {},
   "outputs": [],
   "source": [
    "predict_data = pd.read_csv('/Users/amrabh/Downloads/SPY.csv', index_col = 'Date')"
   ]
  },
  {
   "cell_type": "code",
   "execution_count": 44,
   "metadata": {},
   "outputs": [],
   "source": [
    "pred_inp = predict_data[-60:]"
   ]
  },
  {
   "cell_type": "code",
   "execution_count": 45,
   "metadata": {},
   "outputs": [],
   "source": [
    "pred_inp  = pred_inp.iloc[:, 0:4]"
   ]
  },
  {
   "cell_type": "code",
   "execution_count": 46,
   "metadata": {},
   "outputs": [],
   "source": [
    "scaled_input  = scaler.transform(pred_inp)"
   ]
  },
  {
   "cell_type": "code",
   "execution_count": 47,
   "metadata": {},
   "outputs": [],
   "source": [
    "scaled_input = scaled_input.reshape(1,60,4)"
   ]
  },
  {
   "cell_type": "code",
   "execution_count": 48,
   "metadata": {},
   "outputs": [],
   "source": [
    "pred = model.predict(scaled_input)"
   ]
  },
  {
   "cell_type": "code",
   "execution_count": 49,
   "metadata": {},
   "outputs": [
    {
     "data": {
      "text/plain": [
       "array([[0.99012727, 0.9997799 , 0.9992466 , 0.9822634 ]], dtype=float32)"
      ]
     },
     "execution_count": 49,
     "metadata": {},
     "output_type": "execute_result"
    }
   ],
   "source": [
    "pred"
   ]
  },
  {
   "cell_type": "code",
   "execution_count": 50,
   "metadata": {},
   "outputs": [],
   "source": [
    "pred = scaler.inverse_transform(pred)"
   ]
  },
  {
   "cell_type": "code",
   "execution_count": 51,
   "metadata": {},
   "outputs": [],
   "source": [
    "from datetime import date\n",
    "import datetime\n",
    "today = date.today()"
   ]
  },
  {
   "cell_type": "code",
   "execution_count": 52,
   "metadata": {},
   "outputs": [
    {
     "name": "stdout",
     "output_type": "stream",
     "text": [
      "*****Predicted Values********\n",
      "2020-12-06\n",
      "Predict Open  : 366.62833\n",
      "Predict High  : 367.14862\n",
      "Predict Low   : 369.60406\n",
      "Predict Close : 363.7471\n"
     ]
    }
   ],
   "source": [
    "print(\"*****Predicted Values********\")\n",
    "print(today)\n",
    "print(\"Predict Open  :\" ,pred[0][0])\n",
    "print(\"Predict High  :\" ,pred[0][1])\n",
    "print(\"Predict Low   :\" ,pred[0][2])\n",
    "print(\"Predict Close :\" ,pred[0][3])\n"
   ]
  },
  {
   "cell_type": "code",
   "execution_count": 53,
   "metadata": {},
   "outputs": [],
   "source": [
    "actual_values = np.array([367.320007,369.850006,367.220001,369.850006])"
   ]
  },
  {
   "cell_type": "code",
   "execution_count": 54,
   "metadata": {},
   "outputs": [
    {
     "name": "stdout",
     "output_type": "stream",
     "text": [
      "Accuracy of predicted Open is : 0.9981169536894179\n"
     ]
    }
   ],
   "source": [
    "accuracy_open = pred[0][0]/actual_values[0]\n",
    "print(\"Accuracy of predicted Open is :\", accuracy_open)"
   ]
  },
  {
   "cell_type": "code",
   "execution_count": 55,
   "metadata": {},
   "outputs": [
    {
     "name": "stdout",
     "output_type": "stream",
     "text": [
      "Accuracy of predicted High is : 0.9926959974294789\n"
     ]
    }
   ],
   "source": [
    "accuracy_high = pred[0][1]/actual_values[1]\n",
    "print(\"Accuracy of predicted High is :\",accuracy_high)"
   ]
  },
  {
   "cell_type": "code",
   "execution_count": 56,
   "metadata": {},
   "outputs": [
    {
     "name": "stdout",
     "output_type": "stream",
     "text": [
      "Accuracy of predicted Low is : 1.0064921952369534\n"
     ]
    }
   ],
   "source": [
    "accuracy_low = pred[0][2]/actual_values[2]\n",
    "print(\"Accuracy of predicted Low is :\",accuracy_low)"
   ]
  },
  {
   "cell_type": "code",
   "execution_count": 57,
   "metadata": {},
   "outputs": [
    {
     "name": "stdout",
     "output_type": "stream",
     "text": [
      "Accuracy of predicted Close is : 0.9834989723647\n"
     ]
    }
   ],
   "source": [
    "accuracy_close= pred[0][3]/actual_values[3]\n",
    "print(\"Accuracy of predicted Close is :\",accuracy_close)"
   ]
  },
  {
   "cell_type": "code",
   "execution_count": 58,
   "metadata": {},
   "outputs": [
    {
     "name": "stdout",
     "output_type": "stream",
     "text": [
      "Error of predicted Open is : 0.001883046310582115\n"
     ]
    }
   ],
   "source": [
    "error_open = 1-accuracy_open\n",
    "print(\"Error of predicted Open is :\", error_open)"
   ]
  },
  {
   "cell_type": "code",
   "execution_count": 59,
   "metadata": {},
   "outputs": [
    {
     "name": "stdout",
     "output_type": "stream",
     "text": [
      "Error of predicted High is : 0.0073040025705211065\n"
     ]
    }
   ],
   "source": [
    "error_high = 1-accuracy_high\n",
    "print(\"Error of predicted High is :\", error_high)"
   ]
  },
  {
   "cell_type": "code",
   "execution_count": 60,
   "metadata": {},
   "outputs": [
    {
     "name": "stdout",
     "output_type": "stream",
     "text": [
      "Error of predicted Low is : -0.006492195236953435\n"
     ]
    }
   ],
   "source": [
    "error_low = 1-accuracy_low\n",
    "print(\"Error of predicted Low is :\", error_low)"
   ]
  },
  {
   "cell_type": "code",
   "execution_count": 61,
   "metadata": {},
   "outputs": [
    {
     "name": "stdout",
     "output_type": "stream",
     "text": [
      "Error of predicted Close is : 0.016501027635300036\n"
     ]
    }
   ],
   "source": [
    "error_close = 1-accuracy_close\n",
    "print(\"Error of predicted Close is :\", error_close)"
   ]
  },
  {
   "cell_type": "code",
   "execution_count": null,
   "metadata": {},
   "outputs": [],
   "source": []
  }
 ],
 "metadata": {
  "kernelspec": {
   "display_name": "Python 3",
   "language": "python",
   "name": "python3"
  },
  "language_info": {
   "codemirror_mode": {
    "name": "ipython",
    "version": 3
   },
   "file_extension": ".py",
   "mimetype": "text/x-python",
   "name": "python",
   "nbconvert_exporter": "python",
   "pygments_lexer": "ipython3",
   "version": "3.8.5"
  }
 },
 "nbformat": 4,
 "nbformat_minor": 2
}
